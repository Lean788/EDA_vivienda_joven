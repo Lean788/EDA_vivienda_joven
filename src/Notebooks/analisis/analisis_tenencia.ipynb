{
 "cells": [
  {
   "cell_type": "code",
   "execution_count": 1,
   "metadata": {},
   "outputs": [],
   "source": [
    "# importaciones básicas\n",
    "import numpy as np\n",
    "import pandas as pd\n",
    "\n",
    "# para pintar los gráficos\n",
    "\n",
    "%matplotlib inline\n",
    "import matplotlib as mpl\n",
    "import matplotlib.pyplot as plt\n",
    "import seaborn as sns\n",
    "import warnings\n",
    "\n",
    "warnings.filterwarnings('ignore')\n",
    "\n",
    "sns.set_style('darkgrid')"
   ]
  },
  {
   "cell_type": "code",
   "execution_count": 2,
   "metadata": {},
   "outputs": [],
   "source": [
    "reg_tenencia = pd.read_csv('../../data/clean/v_reg_ten.csv')"
   ]
  },
  {
   "cell_type": "code",
   "execution_count": 3,
   "metadata": {},
   "outputs": [
    {
     "data": {
      "text/html": [
       "<div>\n",
       "<style scoped>\n",
       "    .dataframe tbody tr th:only-of-type {\n",
       "        vertical-align: middle;\n",
       "    }\n",
       "\n",
       "    .dataframe tbody tr th {\n",
       "        vertical-align: top;\n",
       "    }\n",
       "\n",
       "    .dataframe thead th {\n",
       "        text-align: right;\n",
       "    }\n",
       "</style>\n",
       "<table border=\"1\" class=\"dataframe\">\n",
       "  <thead>\n",
       "    <tr style=\"text-align: right;\">\n",
       "      <th></th>\n",
       "      <th>Genero</th>\n",
       "      <th>Edad</th>\n",
       "      <th>Regimen</th>\n",
       "      <th>Periodo</th>\n",
       "      <th>Total</th>\n",
       "    </tr>\n",
       "  </thead>\n",
       "  <tbody>\n",
       "    <tr>\n",
       "      <th>0</th>\n",
       "      <td>Ambos sexos</td>\n",
       "      <td>Total</td>\n",
       "      <td>Propiedad</td>\n",
       "      <td>2021</td>\n",
       "      <td>75.8</td>\n",
       "    </tr>\n",
       "    <tr>\n",
       "      <th>1</th>\n",
       "      <td>Ambos sexos</td>\n",
       "      <td>Total</td>\n",
       "      <td>Propiedad</td>\n",
       "      <td>2020</td>\n",
       "      <td>75.2</td>\n",
       "    </tr>\n",
       "    <tr>\n",
       "      <th>2</th>\n",
       "      <td>Ambos sexos</td>\n",
       "      <td>Total</td>\n",
       "      <td>Propiedad</td>\n",
       "      <td>2019</td>\n",
       "      <td>75.9</td>\n",
       "    </tr>\n",
       "    <tr>\n",
       "      <th>3</th>\n",
       "      <td>Ambos sexos</td>\n",
       "      <td>Total</td>\n",
       "      <td>Propiedad</td>\n",
       "      <td>2018</td>\n",
       "      <td>76.1</td>\n",
       "    </tr>\n",
       "    <tr>\n",
       "      <th>4</th>\n",
       "      <td>Ambos sexos</td>\n",
       "      <td>Total</td>\n",
       "      <td>Propiedad</td>\n",
       "      <td>2017</td>\n",
       "      <td>76.7</td>\n",
       "    </tr>\n",
       "    <tr>\n",
       "      <th>5</th>\n",
       "      <td>Ambos sexos</td>\n",
       "      <td>Total</td>\n",
       "      <td>Propiedad</td>\n",
       "      <td>2016</td>\n",
       "      <td>77.1</td>\n",
       "    </tr>\n",
       "    <tr>\n",
       "      <th>6</th>\n",
       "      <td>Ambos sexos</td>\n",
       "      <td>Total</td>\n",
       "      <td>Propiedad</td>\n",
       "      <td>2015</td>\n",
       "      <td>77.3</td>\n",
       "    </tr>\n",
       "    <tr>\n",
       "      <th>7</th>\n",
       "      <td>Ambos sexos</td>\n",
       "      <td>Total</td>\n",
       "      <td>Propiedad</td>\n",
       "      <td>2014</td>\n",
       "      <td>78.0</td>\n",
       "    </tr>\n",
       "    <tr>\n",
       "      <th>8</th>\n",
       "      <td>Ambos sexos</td>\n",
       "      <td>Total</td>\n",
       "      <td>Propiedad</td>\n",
       "      <td>2013</td>\n",
       "      <td>77.7</td>\n",
       "    </tr>\n",
       "    <tr>\n",
       "      <th>9</th>\n",
       "      <td>Ambos sexos</td>\n",
       "      <td>Total</td>\n",
       "      <td>Propiedad</td>\n",
       "      <td>2012</td>\n",
       "      <td>79.2</td>\n",
       "    </tr>\n",
       "    <tr>\n",
       "      <th>10</th>\n",
       "      <td>Ambos sexos</td>\n",
       "      <td>Total</td>\n",
       "      <td>Propiedad</td>\n",
       "      <td>2011</td>\n",
       "      <td>79.6</td>\n",
       "    </tr>\n",
       "    <tr>\n",
       "      <th>11</th>\n",
       "      <td>Ambos sexos</td>\n",
       "      <td>Total</td>\n",
       "      <td>Propiedad</td>\n",
       "      <td>2010</td>\n",
       "      <td>79.4</td>\n",
       "    </tr>\n",
       "    <tr>\n",
       "      <th>12</th>\n",
       "      <td>Ambos sexos</td>\n",
       "      <td>Total</td>\n",
       "      <td>Propiedad</td>\n",
       "      <td>2009</td>\n",
       "      <td>79.3</td>\n",
       "    </tr>\n",
       "    <tr>\n",
       "      <th>13</th>\n",
       "      <td>Ambos sexos</td>\n",
       "      <td>Total</td>\n",
       "      <td>Propiedad</td>\n",
       "      <td>2008</td>\n",
       "      <td>79.6</td>\n",
       "    </tr>\n",
       "    <tr>\n",
       "      <th>14</th>\n",
       "      <td>Ambos sexos</td>\n",
       "      <td>Total</td>\n",
       "      <td>Propiedad</td>\n",
       "      <td>2007</td>\n",
       "      <td>80.1</td>\n",
       "    </tr>\n",
       "    <tr>\n",
       "      <th>15</th>\n",
       "      <td>Ambos sexos</td>\n",
       "      <td>Total</td>\n",
       "      <td>Propiedad</td>\n",
       "      <td>2006</td>\n",
       "      <td>79.5</td>\n",
       "    </tr>\n",
       "    <tr>\n",
       "      <th>16</th>\n",
       "      <td>Ambos sexos</td>\n",
       "      <td>Total</td>\n",
       "      <td>Propiedad</td>\n",
       "      <td>2005</td>\n",
       "      <td>80.5</td>\n",
       "    </tr>\n",
       "    <tr>\n",
       "      <th>17</th>\n",
       "      <td>Ambos sexos</td>\n",
       "      <td>Total</td>\n",
       "      <td>Propiedad</td>\n",
       "      <td>2004</td>\n",
       "      <td>79.5</td>\n",
       "    </tr>\n",
       "    <tr>\n",
       "      <th>18</th>\n",
       "      <td>Ambos sexos</td>\n",
       "      <td>Total</td>\n",
       "      <td>Alquiler a precio de mercado</td>\n",
       "      <td>2021</td>\n",
       "      <td>15.2</td>\n",
       "    </tr>\n",
       "    <tr>\n",
       "      <th>19</th>\n",
       "      <td>Ambos sexos</td>\n",
       "      <td>Total</td>\n",
       "      <td>Alquiler a precio de mercado</td>\n",
       "      <td>2020</td>\n",
       "      <td>14.7</td>\n",
       "    </tr>\n",
       "    <tr>\n",
       "      <th>20</th>\n",
       "      <td>Ambos sexos</td>\n",
       "      <td>Total</td>\n",
       "      <td>Alquiler a precio de mercado</td>\n",
       "      <td>2019</td>\n",
       "      <td>15.4</td>\n",
       "    </tr>\n",
       "    <tr>\n",
       "      <th>21</th>\n",
       "      <td>Ambos sexos</td>\n",
       "      <td>Total</td>\n",
       "      <td>Alquiler a precio de mercado</td>\n",
       "      <td>2018</td>\n",
       "      <td>14.8</td>\n",
       "    </tr>\n",
       "    <tr>\n",
       "      <th>22</th>\n",
       "      <td>Ambos sexos</td>\n",
       "      <td>Total</td>\n",
       "      <td>Alquiler a precio de mercado</td>\n",
       "      <td>2017</td>\n",
       "      <td>14.3</td>\n",
       "    </tr>\n",
       "    <tr>\n",
       "      <th>23</th>\n",
       "      <td>Ambos sexos</td>\n",
       "      <td>Total</td>\n",
       "      <td>Alquiler a precio de mercado</td>\n",
       "      <td>2016</td>\n",
       "      <td>13.8</td>\n",
       "    </tr>\n",
       "    <tr>\n",
       "      <th>24</th>\n",
       "      <td>Ambos sexos</td>\n",
       "      <td>Total</td>\n",
       "      <td>Alquiler a precio de mercado</td>\n",
       "      <td>2015</td>\n",
       "      <td>13.1</td>\n",
       "    </tr>\n",
       "  </tbody>\n",
       "</table>\n",
       "</div>"
      ],
      "text/plain": [
       "         Genero   Edad                       Regimen  Periodo  Total\n",
       "0   Ambos sexos  Total                     Propiedad     2021   75.8\n",
       "1   Ambos sexos  Total                     Propiedad     2020   75.2\n",
       "2   Ambos sexos  Total                     Propiedad     2019   75.9\n",
       "3   Ambos sexos  Total                     Propiedad     2018   76.1\n",
       "4   Ambos sexos  Total                     Propiedad     2017   76.7\n",
       "5   Ambos sexos  Total                     Propiedad     2016   77.1\n",
       "6   Ambos sexos  Total                     Propiedad     2015   77.3\n",
       "7   Ambos sexos  Total                     Propiedad     2014   78.0\n",
       "8   Ambos sexos  Total                     Propiedad     2013   77.7\n",
       "9   Ambos sexos  Total                     Propiedad     2012   79.2\n",
       "10  Ambos sexos  Total                     Propiedad     2011   79.6\n",
       "11  Ambos sexos  Total                     Propiedad     2010   79.4\n",
       "12  Ambos sexos  Total                     Propiedad     2009   79.3\n",
       "13  Ambos sexos  Total                     Propiedad     2008   79.6\n",
       "14  Ambos sexos  Total                     Propiedad     2007   80.1\n",
       "15  Ambos sexos  Total                     Propiedad     2006   79.5\n",
       "16  Ambos sexos  Total                     Propiedad     2005   80.5\n",
       "17  Ambos sexos  Total                     Propiedad     2004   79.5\n",
       "18  Ambos sexos  Total  Alquiler a precio de mercado     2021   15.2\n",
       "19  Ambos sexos  Total  Alquiler a precio de mercado     2020   14.7\n",
       "20  Ambos sexos  Total  Alquiler a precio de mercado     2019   15.4\n",
       "21  Ambos sexos  Total  Alquiler a precio de mercado     2018   14.8\n",
       "22  Ambos sexos  Total  Alquiler a precio de mercado     2017   14.3\n",
       "23  Ambos sexos  Total  Alquiler a precio de mercado     2016   13.8\n",
       "24  Ambos sexos  Total  Alquiler a precio de mercado     2015   13.1"
      ]
     },
     "execution_count": 3,
     "metadata": {},
     "output_type": "execute_result"
    }
   ],
   "source": [
    "reg_tenencia.head(25)"
   ]
  },
  {
   "cell_type": "code",
   "execution_count": 4,
   "metadata": {},
   "outputs": [
    {
     "data": {
      "text/plain": [
       "Index(['Genero', 'Edad', 'Regimen', 'Periodo', 'Total'], dtype='object')"
      ]
     },
     "execution_count": 4,
     "metadata": {},
     "output_type": "execute_result"
    }
   ],
   "source": [
    "reg_tenencia.columns"
   ]
  },
  {
   "cell_type": "code",
   "execution_count": 5,
   "metadata": {},
   "outputs": [
    {
     "data": {
      "text/plain": [
       "Ambos sexos    180\n",
       "Hombres        180\n",
       "Mujeres        180\n",
       "Name: Genero, dtype: int64"
      ]
     },
     "execution_count": 5,
     "metadata": {},
     "output_type": "execute_result"
    }
   ],
   "source": [
    "reg_tenencia['Genero'].value_counts()"
   ]
  },
  {
   "cell_type": "code",
   "execution_count": 6,
   "metadata": {},
   "outputs": [
    {
     "data": {
      "text/plain": [
       "Total              108\n",
       "De 16 a 29 años    108\n",
       "De 30 a 44 años    108\n",
       "De 45 a 64 años    108\n",
       "65 y más años      108\n",
       "Name: Edad, dtype: int64"
      ]
     },
     "execution_count": 6,
     "metadata": {},
     "output_type": "execute_result"
    }
   ],
   "source": [
    "reg_tenencia['Edad'].value_counts()\n"
   ]
  },
  {
   "cell_type": "code",
   "execution_count": 7,
   "metadata": {},
   "outputs": [
    {
     "data": {
      "text/plain": [
       "Propiedad                       270\n",
       "Alquiler a precio de mercado    270\n",
       "Name: Regimen, dtype: int64"
      ]
     },
     "execution_count": 7,
     "metadata": {},
     "output_type": "execute_result"
    }
   ],
   "source": [
    "reg_tenencia['Regimen'].value_counts()\n"
   ]
  }
 ],
 "metadata": {
  "kernelspec": {
   "display_name": "Python 3",
   "language": "python",
   "name": "python3"
  },
  "language_info": {
   "codemirror_mode": {
    "name": "ipython",
    "version": 3
   },
   "file_extension": ".py",
   "mimetype": "text/x-python",
   "name": "python",
   "nbconvert_exporter": "python",
   "pygments_lexer": "ipython3",
   "version": "3.7.4"
  },
  "orig_nbformat": 4,
  "vscode": {
   "interpreter": {
    "hash": "207c308bf4f500f1746affa728cb3678c6c9733dbbb4e5042cb4d1135561ef1c"
   }
  }
 },
 "nbformat": 4,
 "nbformat_minor": 2
}

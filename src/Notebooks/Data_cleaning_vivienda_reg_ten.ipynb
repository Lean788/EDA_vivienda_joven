{
 "cells": [
  {
   "attachments": {},
   "cell_type": "markdown",
   "metadata": {},
   "source": [
    "## Dataset de Viviendas en España\n",
    "### Viviendas en España por régimen de tenencia y tipo de edificación.\n",
    "### Unidades: miles de viviendas\n",
    "\n",
    "Fuente: Instituto Nacional de Estadística. Ref: "
   ]
  },
  {
   "cell_type": "code",
   "execution_count": 1,
   "metadata": {},
   "outputs": [],
   "source": [
    "# importaciones básicas\n",
    "import numpy as np\n",
    "import pandas as pd"
   ]
  },
  {
   "cell_type": "code",
   "execution_count": 2,
   "metadata": {},
   "outputs": [
    {
     "data": {
      "text/html": [
       "<div>\n",
       "<style scoped>\n",
       "    .dataframe tbody tr th:only-of-type {\n",
       "        vertical-align: middle;\n",
       "    }\n",
       "\n",
       "    .dataframe tbody tr th {\n",
       "        vertical-align: top;\n",
       "    }\n",
       "\n",
       "    .dataframe thead th {\n",
       "        text-align: right;\n",
       "    }\n",
       "</style>\n",
       "<table border=\"1\" class=\"dataframe\">\n",
       "  <thead>\n",
       "    <tr style=\"text-align: right;\">\n",
       "      <th></th>\n",
       "      <th>Tipo de edificación</th>\n",
       "      <th>Régimen de tenencia</th>\n",
       "      <th>periodo</th>\n",
       "      <th>Total</th>\n",
       "    </tr>\n",
       "  </thead>\n",
       "  <tbody>\n",
       "    <tr>\n",
       "      <th>0</th>\n",
       "      <td>Total</td>\n",
       "      <td>Total</td>\n",
       "      <td>2020</td>\n",
       "      <td>18754,8</td>\n",
       "    </tr>\n",
       "    <tr>\n",
       "      <th>1</th>\n",
       "      <td>Total</td>\n",
       "      <td>Total</td>\n",
       "      <td>2019</td>\n",
       "      <td>18625,7</td>\n",
       "    </tr>\n",
       "    <tr>\n",
       "      <th>2</th>\n",
       "      <td>Total</td>\n",
       "      <td>Total</td>\n",
       "      <td>2018</td>\n",
       "      <td>18535,9</td>\n",
       "    </tr>\n",
       "    <tr>\n",
       "      <th>3</th>\n",
       "      <td>Total</td>\n",
       "      <td>Total</td>\n",
       "      <td>2017</td>\n",
       "      <td>18472,8</td>\n",
       "    </tr>\n",
       "    <tr>\n",
       "      <th>4</th>\n",
       "      <td>Total</td>\n",
       "      <td>Total</td>\n",
       "      <td>2016</td>\n",
       "      <td>18406,1</td>\n",
       "    </tr>\n",
       "    <tr>\n",
       "      <th>...</th>\n",
       "      <td>...</td>\n",
       "      <td>...</td>\n",
       "      <td>...</td>\n",
       "      <td>...</td>\n",
       "    </tr>\n",
       "    <tr>\n",
       "      <th>219</th>\n",
       "      <td>Edificio destinado a otros usos</td>\n",
       "      <td>Alquilada</td>\n",
       "      <td>2017</td>\n",
       "      <td>7,9</td>\n",
       "    </tr>\n",
       "    <tr>\n",
       "      <th>220</th>\n",
       "      <td>Edificio destinado a otros usos</td>\n",
       "      <td>Alquilada</td>\n",
       "      <td>2016</td>\n",
       "      <td>7,9</td>\n",
       "    </tr>\n",
       "    <tr>\n",
       "      <th>221</th>\n",
       "      <td>Edificio destinado a otros usos</td>\n",
       "      <td>Alquilada</td>\n",
       "      <td>2015</td>\n",
       "      <td>5,8</td>\n",
       "    </tr>\n",
       "    <tr>\n",
       "      <th>222</th>\n",
       "      <td>Edificio destinado a otros usos</td>\n",
       "      <td>Alquilada</td>\n",
       "      <td>2014</td>\n",
       "      <td>6,5</td>\n",
       "    </tr>\n",
       "    <tr>\n",
       "      <th>223</th>\n",
       "      <td>Edificio destinado a otros usos</td>\n",
       "      <td>Alquilada</td>\n",
       "      <td>2013</td>\n",
       "      <td>17,5</td>\n",
       "    </tr>\n",
       "  </tbody>\n",
       "</table>\n",
       "<p>224 rows × 4 columns</p>\n",
       "</div>"
      ],
      "text/plain": [
       "                 Tipo de edificación Régimen de tenencia  periodo    Total\n",
       "0                              Total               Total     2020  18754,8\n",
       "1                              Total               Total     2019  18625,7\n",
       "2                              Total               Total     2018  18535,9\n",
       "3                              Total               Total     2017  18472,8\n",
       "4                              Total               Total     2016  18406,1\n",
       "..                               ...                 ...      ...      ...\n",
       "219  Edificio destinado a otros usos           Alquilada     2017      7,9\n",
       "220  Edificio destinado a otros usos           Alquilada     2016      7,9\n",
       "221  Edificio destinado a otros usos           Alquilada     2015      5,8\n",
       "222  Edificio destinado a otros usos           Alquilada     2014      6,5\n",
       "223  Edificio destinado a otros usos           Alquilada     2013     17,5\n",
       "\n",
       "[224 rows x 4 columns]"
      ]
     },
     "execution_count": 2,
     "metadata": {},
     "output_type": "execute_result"
    }
   ],
   "source": [
    "num_vivienda = pd.read_csv('./data/dataset6_vivienda_reg_ten.csv', sep=';')\n",
    "num_vivienda"
   ]
  },
  {
   "cell_type": "code",
   "execution_count": 3,
   "metadata": {},
   "outputs": [
    {
     "name": "stdout",
     "output_type": "stream",
     "text": [
      "<class 'pandas.core.frame.DataFrame'>\n",
      "RangeIndex: 224 entries, 0 to 223\n",
      "Data columns (total 4 columns):\n",
      " #   Column               Non-Null Count  Dtype \n",
      "---  ------               --------------  ----- \n",
      " 0   Tipo de edificación  224 non-null    object\n",
      " 1   Régimen de tenencia  224 non-null    object\n",
      " 2   periodo              224 non-null    int64 \n",
      " 3   Total                224 non-null    object\n",
      "dtypes: int64(1), object(3)\n",
      "memory usage: 7.1+ KB\n"
     ]
    }
   ],
   "source": [
    "num_vivienda.info()"
   ]
  },
  {
   "cell_type": "code",
   "execution_count": 4,
   "metadata": {},
   "outputs": [
    {
     "data": {
      "text/plain": [
       "Index(['Tipo de edificación', 'Régimen de tenencia', 'periodo', 'Total'], dtype='object')"
      ]
     },
     "execution_count": 4,
     "metadata": {},
     "output_type": "execute_result"
    }
   ],
   "source": [
    "num_vivienda.columns"
   ]
  },
  {
   "cell_type": "code",
   "execution_count": 5,
   "metadata": {},
   "outputs": [],
   "source": [
    "num_vivienda.rename(columns={'Tipo de edificación':'tipo_edif', \n",
    "                                     'Régimen de tenencia': 'regimen_ten', \n",
    "                                     'Total': 'total'}, inplace=True)"
   ]
  },
  {
   "cell_type": "code",
   "execution_count": 6,
   "metadata": {},
   "outputs": [
    {
     "data": {
      "text/plain": [
       "Total                                     32\n",
       "Vivienda unifamiliar independiente        32\n",
       "Vivienda unifamiliar adosada o pareada    32\n",
       "Edificio con dos viviendas                32\n",
       "Edificio de 3 a 9 viviendas               32\n",
       "Edificio con 10 o más viviendas           32\n",
       "Edificio destinado a otros usos           32\n",
       "Name: tipo_edif, dtype: int64"
      ]
     },
     "execution_count": 6,
     "metadata": {},
     "output_type": "execute_result"
    }
   ],
   "source": [
    "num_vivienda['tipo_edif'].value_counts()"
   ]
  },
  {
   "cell_type": "code",
   "execution_count": 7,
   "metadata": {},
   "outputs": [
    {
     "data": {
      "text/plain": [
       "Total                                                      56\n",
       "Propia por compra, totalmente pagada, heredada o donada    56\n",
       "Propia con pagos pendientes                                56\n",
       "Alquilada                                                  56\n",
       "Name: regimen_ten, dtype: int64"
      ]
     },
     "execution_count": 7,
     "metadata": {},
     "output_type": "execute_result"
    }
   ],
   "source": [
    "num_vivienda['regimen_ten'].value_counts()\n"
   ]
  },
  {
   "cell_type": "code",
   "execution_count": 9,
   "metadata": {},
   "outputs": [
    {
     "data": {
      "text/plain": [
       "0      18754.8\n",
       "1      18625.7\n",
       "2      18535.9\n",
       "3      18472.8\n",
       "4      18406.1\n",
       "        ...   \n",
       "219        7.9\n",
       "220        7.9\n",
       "221        5.8\n",
       "222        6.5\n",
       "223       17.5\n",
       "Name: total, Length: 224, dtype: object"
      ]
     },
     "execution_count": 9,
     "metadata": {},
     "output_type": "execute_result"
    }
   ],
   "source": [
    "num_vivienda['total'] = num_vivienda['total'].str.replace(\",\",\".\")\n",
    "num_vivienda['total']"
   ]
  },
  {
   "cell_type": "code",
   "execution_count": 10,
   "metadata": {},
   "outputs": [
    {
     "data": {
      "text/plain": [
       "dtype('float64')"
      ]
     },
     "execution_count": 10,
     "metadata": {},
     "output_type": "execute_result"
    }
   ],
   "source": [
    "num_vivienda['total'] = num_vivienda['total'].astype(float)\n",
    "num_vivienda['total'].dtype"
   ]
  },
  {
   "cell_type": "code",
   "execution_count": 14,
   "metadata": {},
   "outputs": [],
   "source": [
    "num_vivienda['total'] = num_vivienda['total']*1000\n"
   ]
  },
  {
   "cell_type": "code",
   "execution_count": 15,
   "metadata": {},
   "outputs": [
    {
     "data": {
      "text/html": [
       "<div>\n",
       "<style scoped>\n",
       "    .dataframe tbody tr th:only-of-type {\n",
       "        vertical-align: middle;\n",
       "    }\n",
       "\n",
       "    .dataframe tbody tr th {\n",
       "        vertical-align: top;\n",
       "    }\n",
       "\n",
       "    .dataframe thead th {\n",
       "        text-align: right;\n",
       "    }\n",
       "</style>\n",
       "<table border=\"1\" class=\"dataframe\">\n",
       "  <thead>\n",
       "    <tr style=\"text-align: right;\">\n",
       "      <th></th>\n",
       "      <th>tipo_edif</th>\n",
       "      <th>regimen_ten</th>\n",
       "      <th>periodo</th>\n",
       "      <th>total</th>\n",
       "    </tr>\n",
       "  </thead>\n",
       "  <tbody>\n",
       "    <tr>\n",
       "      <th>0</th>\n",
       "      <td>Total</td>\n",
       "      <td>Total</td>\n",
       "      <td>2020</td>\n",
       "      <td>18754800.0</td>\n",
       "    </tr>\n",
       "    <tr>\n",
       "      <th>1</th>\n",
       "      <td>Total</td>\n",
       "      <td>Total</td>\n",
       "      <td>2019</td>\n",
       "      <td>18625700.0</td>\n",
       "    </tr>\n",
       "    <tr>\n",
       "      <th>2</th>\n",
       "      <td>Total</td>\n",
       "      <td>Total</td>\n",
       "      <td>2018</td>\n",
       "      <td>18535900.0</td>\n",
       "    </tr>\n",
       "    <tr>\n",
       "      <th>3</th>\n",
       "      <td>Total</td>\n",
       "      <td>Total</td>\n",
       "      <td>2017</td>\n",
       "      <td>18472800.0</td>\n",
       "    </tr>\n",
       "    <tr>\n",
       "      <th>4</th>\n",
       "      <td>Total</td>\n",
       "      <td>Total</td>\n",
       "      <td>2016</td>\n",
       "      <td>18406100.0</td>\n",
       "    </tr>\n",
       "    <tr>\n",
       "      <th>...</th>\n",
       "      <td>...</td>\n",
       "      <td>...</td>\n",
       "      <td>...</td>\n",
       "      <td>...</td>\n",
       "    </tr>\n",
       "    <tr>\n",
       "      <th>219</th>\n",
       "      <td>Edificio destinado a otros usos</td>\n",
       "      <td>Alquilada</td>\n",
       "      <td>2017</td>\n",
       "      <td>7900.0</td>\n",
       "    </tr>\n",
       "    <tr>\n",
       "      <th>220</th>\n",
       "      <td>Edificio destinado a otros usos</td>\n",
       "      <td>Alquilada</td>\n",
       "      <td>2016</td>\n",
       "      <td>7900.0</td>\n",
       "    </tr>\n",
       "    <tr>\n",
       "      <th>221</th>\n",
       "      <td>Edificio destinado a otros usos</td>\n",
       "      <td>Alquilada</td>\n",
       "      <td>2015</td>\n",
       "      <td>5800.0</td>\n",
       "    </tr>\n",
       "    <tr>\n",
       "      <th>222</th>\n",
       "      <td>Edificio destinado a otros usos</td>\n",
       "      <td>Alquilada</td>\n",
       "      <td>2014</td>\n",
       "      <td>6500.0</td>\n",
       "    </tr>\n",
       "    <tr>\n",
       "      <th>223</th>\n",
       "      <td>Edificio destinado a otros usos</td>\n",
       "      <td>Alquilada</td>\n",
       "      <td>2013</td>\n",
       "      <td>17500.0</td>\n",
       "    </tr>\n",
       "  </tbody>\n",
       "</table>\n",
       "<p>224 rows × 4 columns</p>\n",
       "</div>"
      ],
      "text/plain": [
       "                           tipo_edif regimen_ten  periodo       total\n",
       "0                              Total       Total     2020  18754800.0\n",
       "1                              Total       Total     2019  18625700.0\n",
       "2                              Total       Total     2018  18535900.0\n",
       "3                              Total       Total     2017  18472800.0\n",
       "4                              Total       Total     2016  18406100.0\n",
       "..                               ...         ...      ...         ...\n",
       "219  Edificio destinado a otros usos   Alquilada     2017      7900.0\n",
       "220  Edificio destinado a otros usos   Alquilada     2016      7900.0\n",
       "221  Edificio destinado a otros usos   Alquilada     2015      5800.0\n",
       "222  Edificio destinado a otros usos   Alquilada     2014      6500.0\n",
       "223  Edificio destinado a otros usos   Alquilada     2013     17500.0\n",
       "\n",
       "[224 rows x 4 columns]"
      ]
     },
     "execution_count": 15,
     "metadata": {},
     "output_type": "execute_result"
    }
   ],
   "source": [
    "num_vivienda"
   ]
  },
  {
   "cell_type": "code",
   "execution_count": null,
   "metadata": {},
   "outputs": [],
   "source": [
    "num_vivienda.to_csv('./data/clean/v_num.csv', encoding='utf-8', index=False)"
   ]
  }
 ],
 "metadata": {
  "kernelspec": {
   "display_name": "Python 3",
   "language": "python",
   "name": "python3"
  },
  "language_info": {
   "codemirror_mode": {
    "name": "ipython",
    "version": 3
   },
   "file_extension": ".py",
   "mimetype": "text/x-python",
   "name": "python",
   "nbconvert_exporter": "python",
   "pygments_lexer": "ipython3",
   "version": "3.7.4 (tags/v3.7.4:e09359112e, Jul  8 2019, 20:34:20) [MSC v.1916 64 bit (AMD64)]"
  },
  "orig_nbformat": 4,
  "vscode": {
   "interpreter": {
    "hash": "207c308bf4f500f1746affa728cb3678c6c9733dbbb4e5042cb4d1135561ef1c"
   }
  }
 },
 "nbformat": 4,
 "nbformat_minor": 2
}

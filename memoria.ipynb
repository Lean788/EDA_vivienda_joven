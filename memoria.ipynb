{
 "cells": [
  {
   "attachments": {},
   "cell_type": "markdown",
   "metadata": {},
   "source": [
    "# Memoria"
   ]
  },
  {
   "attachments": {},
   "cell_type": "markdown",
   "metadata": {},
   "source": [
    "## Acceso a la vivienda por parte de la población joven\n",
    "\n",
    "### Antecedentes\n",
    "\n",
    "Este trabajo surge de mi propia experiencia, como persona a la que le afecta directamente la situación actual de la vivienda, tanto es así, que antes de estudiar Data Science, me hubiese encantado que me enseñasen este tipo de información. \n",
    "\n",
    "Para ser más exactos, estamos ante un EDA que pretende centrarse entre personas a partir de los 16 años hasta los 44 años. \n",
    "\n",
    "Evidentemente no todos en esas franjas son \"jovenes\" como tal, ni tienen porqué tener las mismas preocupaciones, pero son las franjas con las que me he encontrado mayoritariamente datos, y que se acercan al público objetivo que persigue este análisis, que no es otro que un joven que pretende tener acceso a una vivienda en 2023.\n",
    "\n",
    "### Proceso del trabajo\n",
    "\n",
    "Para empezar, me pregunté: ¿cuáles serían las variables que influyen en este trabajo? \n",
    "\n",
    "rápidamente comprendí que para saber datos sobre los propios jovenes necesitaría datos sobre sus preferencias, su economía e información sobre el parque de vivienda en España y su evolución actual. \n",
    "\n",
    "#### Variables más interesantes\n",
    "\n",
    "Me centré en buscar información sobre:\n",
    "\n",
    "- **Salarios** de las personas residentes en España.\n",
    "- **Población** de España.\n",
    "- **Indices de precios de la vivienda**, principalmente del alquiler.\n",
    "- Información sobre los **propietarios vs arrendatarios** en España.\n",
    "- Comparaciones con los demás paises de la zona Euro.\n",
    "- Datos de las **hipotécas firmadas**, y su evolución.\n",
    "- **Número de viviendas en España**, teniéndo en cuenta el *régimen de tenencia* (vivienda en propiedad o alquilada), así como también datos sobre las **viviendas vacías** en el territorio español, y una comparación con los demás países europeos.\n",
    "\n",
    "Además, nutrí este estudios con otros que ya se han realizado, aportando datos que ayuden a tener una visión más amplia del tema en cuestión:\n",
    "\n",
    "+ Datos del CIS sobre el *Barómetro de la vivienda y el alquiler*, así como también un estudio de **\"Jovenes y la vivienda\"**.\n",
    "+ Datos del **IPC**\n",
    "+ Recomendaciones del **Banco de España** en materia de consumo. \n",
    "+ Información de **memoria histórica sobre la evolución de la vivienda en España y sus modelos** de producción y consumo.\n",
    "\n",
    "#### Fuentes\n",
    "\n",
    "Las fuentes más relevantes de estos datasets recogidos han sido:\n",
    "\n",
    "- INE (Instituto Nacional de Estadística)\n",
    "- Eurostat (Datos estadísticos de alta calidad de la Eurozona) \n",
    "- data.gob.es (Base de datos del gobierno de España). \n",
    "- Informes del CIS\n",
    "- Informes de portal inmobiliario (idealista) y portal de empleo (infojobs).\n",
    "\n",
    "#### Limpieza de datos\n",
    "\n",
    "A continuación procedí a la limpieza y depurado de los datos, ya que al leerlos con Pandas en los notebooks, aparecían todo tipo de datos y formas de tablas que dificultaban su manipulación. \n",
    "\n",
    "Una vez que los he trabajado, los guardo como nuevos datasets ya limpios, listos para su análisis.\n",
    "\n",
    "#### Visualización\n",
    "\n",
    "Lo siguiente sería hacer diferentes agrupaciones y cruces de datos para poder sacar gráficos estadísiticos que nos ayuden a ver la realidad sobre este tema y validar o no las hipótesis iniciales planteadas.\n",
    "\n",
    "#### Presentación\n",
    "\n",
    "Para finalizar, con estos gráficos conseguidos, se exportan para poder completar un PowerPoint que usaré como apoyo para la exposición. \n",
    "\n",
    "#### Oratoria y _storytelling_\n",
    "\n",
    "La explicación será a modo de storytelling, donde intentaré captar la atención del público desde el primer minuto, haciéndolos protagonístas o al menos, personas que se sientan reflejados con lo que se contará. "
   ]
  }
 ],
 "metadata": {
  "language_info": {
   "name": "python"
  },
  "orig_nbformat": 4
 },
 "nbformat": 4,
 "nbformat_minor": 2
}

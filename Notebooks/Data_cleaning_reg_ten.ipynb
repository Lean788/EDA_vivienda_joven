{
 "cells": [
  {
   "cell_type": "code",
   "execution_count": 1,
   "metadata": {},
   "outputs": [],
   "source": [
    "# importaciones básicas\n",
    "import numpy as np\n",
    "import pandas as pd"
   ]
  },
  {
   "attachments": {},
   "cell_type": "markdown",
   "metadata": {},
   "source": [
    "## Dataset de Vivienda\n",
    "### Hogares por régimen de tenencia de la vivienda, discriminado por sexo y edad de la persona referenciada.\n",
    "### Unidades: % hogares\n",
    "Nota: la persona de referencia es la persona responsable de la vivienda\n",
    "\n",
    "Fuente: Instituto Nacional de Estadística. Ref: 9994c"
   ]
  },
  {
   "cell_type": "code",
   "execution_count": 4,
   "metadata": {},
   "outputs": [
    {
     "data": {
      "text/html": [
       "<div>\n",
       "<style scoped>\n",
       "    .dataframe tbody tr th:only-of-type {\n",
       "        vertical-align: middle;\n",
       "    }\n",
       "\n",
       "    .dataframe tbody tr th {\n",
       "        vertical-align: top;\n",
       "    }\n",
       "\n",
       "    .dataframe thead th {\n",
       "        text-align: right;\n",
       "    }\n",
       "</style>\n",
       "<table border=\"1\" class=\"dataframe\">\n",
       "  <thead>\n",
       "    <tr style=\"text-align: right;\">\n",
       "      <th></th>\n",
       "      <th>Sexo de la persona de referencia</th>\n",
       "      <th>Edad de la persona de referencia</th>\n",
       "      <th>Régimen de tenencia de la vivienda principal</th>\n",
       "      <th>Periodo</th>\n",
       "      <th>Total</th>\n",
       "    </tr>\n",
       "  </thead>\n",
       "  <tbody>\n",
       "    <tr>\n",
       "      <th>0</th>\n",
       "      <td>Ambos sexos</td>\n",
       "      <td>Total</td>\n",
       "      <td>Propiedad</td>\n",
       "      <td>2021</td>\n",
       "      <td>75,8</td>\n",
       "    </tr>\n",
       "    <tr>\n",
       "      <th>1</th>\n",
       "      <td>Ambos sexos</td>\n",
       "      <td>Total</td>\n",
       "      <td>Propiedad</td>\n",
       "      <td>2020</td>\n",
       "      <td>75,2</td>\n",
       "    </tr>\n",
       "    <tr>\n",
       "      <th>2</th>\n",
       "      <td>Ambos sexos</td>\n",
       "      <td>Total</td>\n",
       "      <td>Propiedad</td>\n",
       "      <td>2019</td>\n",
       "      <td>75,9</td>\n",
       "    </tr>\n",
       "    <tr>\n",
       "      <th>3</th>\n",
       "      <td>Ambos sexos</td>\n",
       "      <td>Total</td>\n",
       "      <td>Propiedad</td>\n",
       "      <td>2018</td>\n",
       "      <td>76,1</td>\n",
       "    </tr>\n",
       "    <tr>\n",
       "      <th>4</th>\n",
       "      <td>Ambos sexos</td>\n",
       "      <td>Total</td>\n",
       "      <td>Propiedad</td>\n",
       "      <td>2017</td>\n",
       "      <td>76,7</td>\n",
       "    </tr>\n",
       "    <tr>\n",
       "      <th>...</th>\n",
       "      <td>...</td>\n",
       "      <td>...</td>\n",
       "      <td>...</td>\n",
       "      <td>...</td>\n",
       "      <td>...</td>\n",
       "    </tr>\n",
       "    <tr>\n",
       "      <th>535</th>\n",
       "      <td>Mujeres</td>\n",
       "      <td>65 y más años</td>\n",
       "      <td>Alquiler a precio de mercado</td>\n",
       "      <td>2008</td>\n",
       "      <td>4,2</td>\n",
       "    </tr>\n",
       "    <tr>\n",
       "      <th>536</th>\n",
       "      <td>Mujeres</td>\n",
       "      <td>65 y más años</td>\n",
       "      <td>Alquiler a precio de mercado</td>\n",
       "      <td>2007</td>\n",
       "      <td>3,9</td>\n",
       "    </tr>\n",
       "    <tr>\n",
       "      <th>537</th>\n",
       "      <td>Mujeres</td>\n",
       "      <td>65 y más años</td>\n",
       "      <td>Alquiler a precio de mercado</td>\n",
       "      <td>2006</td>\n",
       "      <td>4,5</td>\n",
       "    </tr>\n",
       "    <tr>\n",
       "      <th>538</th>\n",
       "      <td>Mujeres</td>\n",
       "      <td>65 y más años</td>\n",
       "      <td>Alquiler a precio de mercado</td>\n",
       "      <td>2005</td>\n",
       "      <td>4,3</td>\n",
       "    </tr>\n",
       "    <tr>\n",
       "      <th>539</th>\n",
       "      <td>Mujeres</td>\n",
       "      <td>65 y más años</td>\n",
       "      <td>Alquiler a precio de mercado</td>\n",
       "      <td>2004</td>\n",
       "      <td>3,8</td>\n",
       "    </tr>\n",
       "  </tbody>\n",
       "</table>\n",
       "<p>540 rows × 5 columns</p>\n",
       "</div>"
      ],
      "text/plain": [
       "    Sexo de la persona de referencia Edad de la persona de referencia  \\\n",
       "0                        Ambos sexos                            Total   \n",
       "1                        Ambos sexos                            Total   \n",
       "2                        Ambos sexos                            Total   \n",
       "3                        Ambos sexos                            Total   \n",
       "4                        Ambos sexos                            Total   \n",
       "..                               ...                              ...   \n",
       "535                          Mujeres                    65 y más años   \n",
       "536                          Mujeres                    65 y más años   \n",
       "537                          Mujeres                    65 y más años   \n",
       "538                          Mujeres                    65 y más años   \n",
       "539                          Mujeres                    65 y más años   \n",
       "\n",
       "    Régimen de tenencia de la vivienda principal  Periodo Total  \n",
       "0                                      Propiedad     2021  75,8  \n",
       "1                                      Propiedad     2020  75,2  \n",
       "2                                      Propiedad     2019  75,9  \n",
       "3                                      Propiedad     2018  76,1  \n",
       "4                                      Propiedad     2017  76,7  \n",
       "..                                           ...      ...   ...  \n",
       "535                 Alquiler a precio de mercado     2008   4,2  \n",
       "536                 Alquiler a precio de mercado     2007   3,9  \n",
       "537                 Alquiler a precio de mercado     2006   4,5  \n",
       "538                 Alquiler a precio de mercado     2005   4,3  \n",
       "539                 Alquiler a precio de mercado     2004   3,8  \n",
       "\n",
       "[540 rows x 5 columns]"
      ]
     },
     "execution_count": 4,
     "metadata": {},
     "output_type": "execute_result"
    }
   ],
   "source": [
    "reg_tenencia = pd.read_csv('./data/dataset_regimen_tenencia.csv', sep=';')\n",
    "reg_tenencia"
   ]
  },
  {
   "cell_type": "code",
   "execution_count": 5,
   "metadata": {},
   "outputs": [
    {
     "name": "stdout",
     "output_type": "stream",
     "text": [
      "<class 'pandas.core.frame.DataFrame'>\n",
      "RangeIndex: 540 entries, 0 to 539\n",
      "Data columns (total 5 columns):\n",
      " #   Column                                        Non-Null Count  Dtype \n",
      "---  ------                                        --------------  ----- \n",
      " 0   Sexo de la persona de referencia              540 non-null    object\n",
      " 1   Edad de la persona de referencia              540 non-null    object\n",
      " 2   Régimen de tenencia de la vivienda principal  540 non-null    object\n",
      " 3   Periodo                                       540 non-null    int64 \n",
      " 4   Total                                         540 non-null    object\n",
      "dtypes: int64(1), object(4)\n",
      "memory usage: 21.2+ KB\n"
     ]
    }
   ],
   "source": [
    "reg_tenencia.info()"
   ]
  },
  {
   "attachments": {},
   "cell_type": "markdown",
   "metadata": {},
   "source": [
    "### Por lo que veo, para tener una mejor manipulación de datos, aquí tendré que reasignar los datos de género, ya que me interesa conocer los datos agrupados por edad, más que por sexo, por lo que utilizaré sobre todo los datos de `Ambos sexos`. "
   ]
  },
  {
   "cell_type": "code",
   "execution_count": 28,
   "metadata": {},
   "outputs": [
    {
     "data": {
      "text/html": [
       "<div>\n",
       "<style scoped>\n",
       "    .dataframe tbody tr th:only-of-type {\n",
       "        vertical-align: middle;\n",
       "    }\n",
       "\n",
       "    .dataframe tbody tr th {\n",
       "        vertical-align: top;\n",
       "    }\n",
       "\n",
       "    .dataframe thead th {\n",
       "        text-align: right;\n",
       "    }\n",
       "</style>\n",
       "<table border=\"1\" class=\"dataframe\">\n",
       "  <thead>\n",
       "    <tr style=\"text-align: right;\">\n",
       "      <th></th>\n",
       "      <th>Genero</th>\n",
       "      <th>Edad</th>\n",
       "      <th>Regimen</th>\n",
       "      <th>Periodo</th>\n",
       "      <th>Total</th>\n",
       "    </tr>\n",
       "  </thead>\n",
       "  <tbody>\n",
       "    <tr>\n",
       "      <th>0</th>\n",
       "      <td>Ambos sexos</td>\n",
       "      <td>Total</td>\n",
       "      <td>Propiedad</td>\n",
       "      <td>2021</td>\n",
       "      <td>75.8</td>\n",
       "    </tr>\n",
       "    <tr>\n",
       "      <th>1</th>\n",
       "      <td>Ambos sexos</td>\n",
       "      <td>Total</td>\n",
       "      <td>Propiedad</td>\n",
       "      <td>2020</td>\n",
       "      <td>75.2</td>\n",
       "    </tr>\n",
       "    <tr>\n",
       "      <th>2</th>\n",
       "      <td>Ambos sexos</td>\n",
       "      <td>Total</td>\n",
       "      <td>Propiedad</td>\n",
       "      <td>2019</td>\n",
       "      <td>75.9</td>\n",
       "    </tr>\n",
       "    <tr>\n",
       "      <th>3</th>\n",
       "      <td>Ambos sexos</td>\n",
       "      <td>Total</td>\n",
       "      <td>Propiedad</td>\n",
       "      <td>2018</td>\n",
       "      <td>76.1</td>\n",
       "    </tr>\n",
       "    <tr>\n",
       "      <th>4</th>\n",
       "      <td>Ambos sexos</td>\n",
       "      <td>Total</td>\n",
       "      <td>Propiedad</td>\n",
       "      <td>2017</td>\n",
       "      <td>76.7</td>\n",
       "    </tr>\n",
       "  </tbody>\n",
       "</table>\n",
       "</div>"
      ],
      "text/plain": [
       "        Genero   Edad    Regimen  Periodo  Total\n",
       "0  Ambos sexos  Total  Propiedad     2021   75.8\n",
       "1  Ambos sexos  Total  Propiedad     2020   75.2\n",
       "2  Ambos sexos  Total  Propiedad     2019   75.9\n",
       "3  Ambos sexos  Total  Propiedad     2018   76.1\n",
       "4  Ambos sexos  Total  Propiedad     2017   76.7"
      ]
     },
     "execution_count": 28,
     "metadata": {},
     "output_type": "execute_result"
    }
   ],
   "source": [
    "reg_tenencia.rename(columns={'Sexo de la persona de referencia':'Genero', 'Edad de la persona de referencia':'Edad','Régimen de tenencia de la vivienda principal':'Regimen'}, inplace=True)\n",
    "reg_tenencia.head()"
   ]
  },
  {
   "cell_type": "code",
   "execution_count": 24,
   "metadata": {},
   "outputs": [
    {
     "data": {
      "text/plain": [
       "Propiedad                       270\n",
       "Alquiler a precio de mercado    270\n",
       "Name: Regimen, dtype: int64"
      ]
     },
     "execution_count": 24,
     "metadata": {},
     "output_type": "execute_result"
    }
   ],
   "source": [
    "reg_tenencia['Regimen'].value_counts()"
   ]
  },
  {
   "cell_type": "code",
   "execution_count": 8,
   "metadata": {},
   "outputs": [
    {
     "data": {
      "text/plain": [
       "array(['Ambos sexos', 'Hombres', 'Mujeres'], dtype=object)"
      ]
     },
     "execution_count": 8,
     "metadata": {},
     "output_type": "execute_result"
    }
   ],
   "source": [
    "reg_tenencia['Genero'].unique()\n"
   ]
  },
  {
   "cell_type": "code",
   "execution_count": 12,
   "metadata": {},
   "outputs": [
    {
     "data": {
      "text/plain": [
       "0      75.8\n",
       "1      75.2\n",
       "2      75.9\n",
       "3      76.1\n",
       "4      76.7\n",
       "       ... \n",
       "535     4.2\n",
       "536     3.9\n",
       "537     4.5\n",
       "538     4.3\n",
       "539     3.8\n",
       "Name: Total, Length: 540, dtype: object"
      ]
     },
     "execution_count": 12,
     "metadata": {},
     "output_type": "execute_result"
    }
   ],
   "source": [
    "reg_tenencia['Total'] = reg_tenencia['Total'].str.replace(\",\",\".\")\n",
    "reg_tenencia['Total']"
   ]
  },
  {
   "cell_type": "code",
   "execution_count": 13,
   "metadata": {},
   "outputs": [],
   "source": [
    "reg_tenencia['Total'] = reg_tenencia['Total'].astype(float)"
   ]
  },
  {
   "cell_type": "code",
   "execution_count": 15,
   "metadata": {},
   "outputs": [
    {
     "data": {
      "text/plain": [
       "dtype('float64')"
      ]
     },
     "execution_count": 15,
     "metadata": {},
     "output_type": "execute_result"
    }
   ],
   "source": [
    "reg_tenencia['Total'].dtype"
   ]
  },
  {
   "cell_type": "code",
   "execution_count": 22,
   "metadata": {},
   "outputs": [
    {
     "data": {
      "text/html": [
       "<div>\n",
       "<style scoped>\n",
       "    .dataframe tbody tr th:only-of-type {\n",
       "        vertical-align: middle;\n",
       "    }\n",
       "\n",
       "    .dataframe tbody tr th {\n",
       "        vertical-align: top;\n",
       "    }\n",
       "\n",
       "    .dataframe thead th {\n",
       "        text-align: right;\n",
       "    }\n",
       "</style>\n",
       "<table border=\"1\" class=\"dataframe\">\n",
       "  <thead>\n",
       "    <tr style=\"text-align: right;\">\n",
       "      <th></th>\n",
       "      <th>Genero</th>\n",
       "      <th>Edad</th>\n",
       "      <th>Regimen</th>\n",
       "      <th>Periodo</th>\n",
       "      <th>Total</th>\n",
       "    </tr>\n",
       "  </thead>\n",
       "  <tbody>\n",
       "    <tr>\n",
       "      <th>0</th>\n",
       "      <td>Ambos sexos</td>\n",
       "      <td>Total</td>\n",
       "      <td>Propiedad</td>\n",
       "      <td>2021</td>\n",
       "      <td>75.8</td>\n",
       "    </tr>\n",
       "    <tr>\n",
       "      <th>1</th>\n",
       "      <td>Ambos sexos</td>\n",
       "      <td>Total</td>\n",
       "      <td>Propiedad</td>\n",
       "      <td>2020</td>\n",
       "      <td>75.2</td>\n",
       "    </tr>\n",
       "    <tr>\n",
       "      <th>2</th>\n",
       "      <td>Ambos sexos</td>\n",
       "      <td>Total</td>\n",
       "      <td>Propiedad</td>\n",
       "      <td>2019</td>\n",
       "      <td>75.9</td>\n",
       "    </tr>\n",
       "    <tr>\n",
       "      <th>3</th>\n",
       "      <td>Ambos sexos</td>\n",
       "      <td>Total</td>\n",
       "      <td>Propiedad</td>\n",
       "      <td>2018</td>\n",
       "      <td>76.1</td>\n",
       "    </tr>\n",
       "    <tr>\n",
       "      <th>4</th>\n",
       "      <td>Ambos sexos</td>\n",
       "      <td>Total</td>\n",
       "      <td>Propiedad</td>\n",
       "      <td>2017</td>\n",
       "      <td>76.7</td>\n",
       "    </tr>\n",
       "    <tr>\n",
       "      <th>5</th>\n",
       "      <td>Ambos sexos</td>\n",
       "      <td>Total</td>\n",
       "      <td>Propiedad</td>\n",
       "      <td>2016</td>\n",
       "      <td>77.1</td>\n",
       "    </tr>\n",
       "    <tr>\n",
       "      <th>6</th>\n",
       "      <td>Ambos sexos</td>\n",
       "      <td>Total</td>\n",
       "      <td>Propiedad</td>\n",
       "      <td>2015</td>\n",
       "      <td>77.3</td>\n",
       "    </tr>\n",
       "    <tr>\n",
       "      <th>7</th>\n",
       "      <td>Ambos sexos</td>\n",
       "      <td>Total</td>\n",
       "      <td>Propiedad</td>\n",
       "      <td>2014</td>\n",
       "      <td>78.0</td>\n",
       "    </tr>\n",
       "    <tr>\n",
       "      <th>8</th>\n",
       "      <td>Ambos sexos</td>\n",
       "      <td>Total</td>\n",
       "      <td>Propiedad</td>\n",
       "      <td>2013</td>\n",
       "      <td>77.7</td>\n",
       "    </tr>\n",
       "    <tr>\n",
       "      <th>9</th>\n",
       "      <td>Ambos sexos</td>\n",
       "      <td>Total</td>\n",
       "      <td>Propiedad</td>\n",
       "      <td>2012</td>\n",
       "      <td>79.2</td>\n",
       "    </tr>\n",
       "  </tbody>\n",
       "</table>\n",
       "</div>"
      ],
      "text/plain": [
       "        Genero   Edad    Regimen  Periodo  Total\n",
       "0  Ambos sexos  Total  Propiedad     2021   75.8\n",
       "1  Ambos sexos  Total  Propiedad     2020   75.2\n",
       "2  Ambos sexos  Total  Propiedad     2019   75.9\n",
       "3  Ambos sexos  Total  Propiedad     2018   76.1\n",
       "4  Ambos sexos  Total  Propiedad     2017   76.7\n",
       "5  Ambos sexos  Total  Propiedad     2016   77.1\n",
       "6  Ambos sexos  Total  Propiedad     2015   77.3\n",
       "7  Ambos sexos  Total  Propiedad     2014   78.0\n",
       "8  Ambos sexos  Total  Propiedad     2013   77.7\n",
       "9  Ambos sexos  Total  Propiedad     2012   79.2"
      ]
     },
     "execution_count": 22,
     "metadata": {},
     "output_type": "execute_result"
    }
   ],
   "source": [
    "reg_tenencia.head(10)"
   ]
  },
  {
   "cell_type": "code",
   "execution_count": 21,
   "metadata": {},
   "outputs": [
    {
     "data": {
      "text/plain": [
       "Genero       Edad           \n",
       "Ambos sexos  65 y más años      36\n",
       "             De 16 a 29 años    36\n",
       "             De 30 a 44 años    36\n",
       "             De 45 a 64 años    36\n",
       "             Total              36\n",
       "Hombres      65 y más años      36\n",
       "             De 16 a 29 años    36\n",
       "             De 30 a 44 años    36\n",
       "             De 45 a 64 años    36\n",
       "             Total              36\n",
       "Mujeres      65 y más años      36\n",
       "             De 16 a 29 años    36\n",
       "             De 30 a 44 años    36\n",
       "             De 45 a 64 años    36\n",
       "             Total              36\n",
       "Name: Edad, dtype: int64"
      ]
     },
     "execution_count": 21,
     "metadata": {},
     "output_type": "execute_result"
    }
   ],
   "source": [
    "reg_tenencia.groupby('Genero')['Edad'].value_counts()"
   ]
  },
  {
   "cell_type": "code",
   "execution_count": 42,
   "metadata": {},
   "outputs": [
    {
     "data": {
      "text/plain": [
       "72    58.0\n",
       "73    59.3\n",
       "74    59.4\n",
       "75    60.7\n",
       "76    63.8\n",
       "77    64.4\n",
       "78    65.3\n",
       "79    68.6\n",
       "80    67.9\n",
       "81    71.1\n",
       "82    72.8\n",
       "83    73.7\n",
       "84    73.8\n",
       "85    73.7\n",
       "86    74.3\n",
       "87    72.7\n",
       "88    72.5\n",
       "89    71.1\n",
       "Name: Total, dtype: float64"
      ]
     },
     "execution_count": 42,
     "metadata": {},
     "output_type": "execute_result"
    }
   ],
   "source": [
    "propietarios = reg_tenencia[(reg_tenencia['Genero'] == 'Ambos sexos')&(reg_tenencia['Regimen'] == 'Propiedad')]\n",
    "propietarios[propietarios['Edad'] == 'De 30 a 44 años']['Total']"
   ]
  },
  {
   "cell_type": "code",
   "execution_count": 41,
   "metadata": {},
   "outputs": [
    {
     "data": {
      "text/plain": [
       "36    32.5\n",
       "37    31.8\n",
       "38    25.5\n",
       "39    29.6\n",
       "40    26.5\n",
       "41    28.4\n",
       "42    34.2\n",
       "43    34.2\n",
       "44    38.5\n",
       "45    42.5\n",
       "46    46.4\n",
       "47    46.9\n",
       "48    50.0\n",
       "49    54.9\n",
       "50    58.1\n",
       "51    56.1\n",
       "52    53.6\n",
       "53    47.7\n",
       "Name: Total, dtype: float64"
      ]
     },
     "execution_count": 41,
     "metadata": {},
     "output_type": "execute_result"
    }
   ],
   "source": [
    "propietarios[propietarios['Edad'] == 'De 16 a 29 años']['Total']\n"
   ]
  },
  {
   "cell_type": "code",
   "execution_count": 44,
   "metadata": {},
   "outputs": [],
   "source": [
    "reg_tenencia.to_csv('./data/clean/v_reg_ten.csv', encoding='utf-8', index=False)"
   ]
  }
 ],
 "metadata": {
  "kernelspec": {
   "display_name": "Python 3",
   "language": "python",
   "name": "python3"
  },
  "language_info": {
   "codemirror_mode": {
    "name": "ipython",
    "version": 3
   },
   "file_extension": ".py",
   "mimetype": "text/x-python",
   "name": "python",
   "nbconvert_exporter": "python",
   "pygments_lexer": "ipython3",
   "version": "3.7.4 (tags/v3.7.4:e09359112e, Jul  8 2019, 20:34:20) [MSC v.1916 64 bit (AMD64)]"
  },
  "orig_nbformat": 4,
  "vscode": {
   "interpreter": {
    "hash": "207c308bf4f500f1746affa728cb3678c6c9733dbbb4e5042cb4d1135561ef1c"
   }
  }
 },
 "nbformat": 4,
 "nbformat_minor": 2
}
